{
 "cells": [
  {
   "cell_type": "markdown",
   "id": "8682eb14",
   "metadata": {},
   "source": [
    "# What is ETL?\n",
    "\n"
   ]
  },
  {
   "cell_type": "code",
   "execution_count": 45,
   "id": "3e528510",
   "metadata": {},
   "outputs": [],
   "source": [
    "import requests\n",
    "import pandas as pd\n",
    "from sqlalchemy import create_engine\n",
    "from datetime import datetime"
   ]
  },
  {
   "cell_type": "markdown",
   "id": "238c5989",
   "metadata": {},
   "source": [
    "## Extract"
   ]
  },
  {
   "cell_type": "code",
   "execution_count": 46,
   "id": "1278b1fb",
   "metadata": {},
   "outputs": [
    {
     "name": "stdout",
     "output_type": "stream",
     "text": [
      "\n",
      "[1] Extracting data from CoinGecko API...\n",
      "Raw API response:\n",
      "{'bitcoin': {'usd': 112158, 'eur': 96185, 'gbp': 83427}, 'ethereum': {'usd': 4470.66, 'eur': 3833.97, 'gbp': 3325.44}}\n"
     ]
    }
   ],
   "source": [
    "print(\"\\n[1] Extracting data from CoinGecko API...\")\n",
    "\n",
    "url = \"https://api.coingecko.com/api/v3/simple/price\"\n",
    "params = {\n",
    "    \"ids\": \"bitcoin,ethereum\",\n",
    "    \"vs_currencies\": \"usd,eur,gbp\"\n",
    "}\n",
    "\n",
    "response = requests.get(url, params=params)\n",
    "data = response.json()\n",
    "\n",
    "print(\"Raw API response:\")\n",
    "print(data)"
   ]
  },
  {
   "cell_type": "markdown",
   "id": "7bf438c8",
   "metadata": {},
   "source": [
    "## Transform"
   ]
  },
  {
   "cell_type": "code",
   "execution_count": 47,
   "id": "6bc24271",
   "metadata": {},
   "outputs": [
    {
     "name": "stdout",
     "output_type": "stream",
     "text": [
      "\n",
      "[2] Transforming data...\n",
      "Data after transformation:\n",
      "                   timestamp  BTC_USD  BTC_EUR  BTC_GBP  ETH_USD  ETH_EUR  \\\n",
      "0 2025-09-03 16:28:34.559181   112158    96185    83427  4470.66  3833.97   \n",
      "\n",
      "   ETH_GBP  BTC_to_ETH_USD  \n",
      "0  3325.44       25.087571  \n"
     ]
    }
   ],
   "source": [
    "print(\"\\n[2] Transforming data...\")\n",
    "\n",
    "df = pd.DataFrame([{\n",
    "    \"timestamp\": datetime.now(),\n",
    "    \"BTC_USD\": data[\"bitcoin\"][\"usd\"],\n",
    "    \"BTC_EUR\": data[\"bitcoin\"][\"eur\"],\n",
    "    \"BTC_GBP\": data[\"bitcoin\"][\"gbp\"],\n",
    "    \"ETH_USD\": data[\"ethereum\"][\"usd\"],\n",
    "    \"ETH_EUR\": data[\"ethereum\"][\"eur\"],\n",
    "    \"ETH_GBP\": data[\"ethereum\"][\"gbp\"]\n",
    "}])\n",
    "\n",
    "# Example transform: add BTC/ETH ratio\n",
    "df[\"BTC_to_ETH_USD\"] = df[\"BTC_USD\"] / df[\"ETH_USD\"]\n",
    "\n",
    "print(\"Data after transformation:\")\n",
    "print(df)"
   ]
  },
  {
   "cell_type": "markdown",
   "id": "dcc279ed",
   "metadata": {},
   "source": [
    "## Load"
   ]
  },
  {
   "cell_type": "code",
   "execution_count": 48,
   "id": "51c2a296",
   "metadata": {},
   "outputs": [
    {
     "name": "stdout",
     "output_type": "stream",
     "text": [
      "\n",
      "[3] Loading data into SQLite database...\n",
      "Data successfully loaded into 'crypto_prices' table.\n"
     ]
    }
   ],
   "source": [
    "print(\"\\n[3] Loading data into SQLite database...\")\n",
    "\n",
    "engine = create_engine(\"sqlite:///crypto_prices.db\")\n",
    "\n",
    "# Append so we keep history over time\n",
    "df.to_sql(\"crypto_prices\", engine, if_exists=\"append\", index=False)\n",
    "\n",
    "print(\"Data successfully loaded into 'crypto_prices' table.\")\n"
   ]
  },
  {
   "cell_type": "code",
   "execution_count": null,
   "id": "a40641ac",
   "metadata": {},
   "outputs": [
    {
     "name": "stdout",
     "output_type": "stream",
     "text": [
      "\n",
      "[4] Verifying database contents (last 5 rows)...\n",
      "                    timestamp  BTC_USD  BTC_EUR  BTC_GBP  ETH_USD  ETH_EUR  \\\n",
      "0  2025-09-03 16:28:34.559181   112158    96185    83427  4470.66  3833.97   \n",
      "1  2025-09-03 16:28:31.383368   112158    96185    83427  4470.66  3833.97   \n",
      "2  2025-09-03 16:28:18.462919   112158    96185    83427  4470.66  3833.97   \n",
      "3  2025-09-03 12:03:16.128413   112267    96160    83482  4482.36  3839.24   \n",
      "4  2025-09-03 12:03:14.743631   112267    96160    83482  4482.36  3839.24   \n",
      "5  2025-09-03 12:03:02.867696   112267    96160    83482  4482.36  3839.24   \n",
      "6  2025-09-03 12:02:40.123462   112267    96160    83482  4482.36  3839.24   \n",
      "7  2025-09-03 11:59:26.764711   112211    96085    83418  4483.34  3839.03   \n",
      "\n",
      "   ETH_GBP  BTC_to_ETH_USD  \n",
      "0  3325.44       25.087571  \n",
      "1  3325.44       25.087571  \n",
      "2  3325.44       25.087571  \n",
      "3  3333.09       25.046404  \n",
      "4  3333.09       25.046404  \n",
      "5  3333.09       25.046404  \n",
      "6  3333.09       25.046404  \n",
      "7  3332.90       25.028439  \n",
      "\n",
      "ETL pipeline finished successfully!\n"
     ]
    }
   ],
   "source": [
    "print(\"\\n[4] Verifying database contents...\")\n",
    "\n",
    "check = pd.read_sql(\n",
    "    \"SELECT * FROM crypto_prices ORDER BY timestamp DESC\", \n",
    "    engine\n",
    ")\n",
    "print(check)\n",
    "\n",
    "print(\"\\nETL pipeline finished successfully!\")\n"
   ]
  }
 ],
 "metadata": {
  "kernelspec": {
   "display_name": "venv (3.12.6)",
   "language": "python",
   "name": "python3"
  },
  "language_info": {
   "codemirror_mode": {
    "name": "ipython",
    "version": 3
   },
   "file_extension": ".py",
   "mimetype": "text/x-python",
   "name": "python",
   "nbconvert_exporter": "python",
   "pygments_lexer": "ipython3",
   "version": "3.12.6"
  }
 },
 "nbformat": 4,
 "nbformat_minor": 5
}
