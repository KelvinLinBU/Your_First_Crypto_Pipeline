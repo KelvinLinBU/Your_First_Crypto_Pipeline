{
 "cells": [
  {
   "cell_type": "markdown",
   "id": "8682eb14",
   "metadata": {},
   "source": [
    "# What is ETL?\n",
    "\n"
   ]
  },
  {
   "cell_type": "markdown",
   "id": "b28eef60",
   "metadata": {},
   "source": [
    "<img src=\"etl.png\" width=\"800\">\n"
   ]
  },
  {
   "cell_type": "code",
   "execution_count": 63,
   "id": "3e528510",
   "metadata": {},
   "outputs": [],
   "source": [
    "# Library to make HTTP requests (used to call the CoinGecko API)\n",
    "import requests\n",
    "\n",
    "# We'll use pandas to transform and clean the crypto data\n",
    "import pandas as pd \n",
    "\n",
    "# SQLAlchemy provides tools to connect Python to databases\n",
    "from sqlalchemy import create_engine\n",
    "\n",
    "# We'll use datetime.now() to timestamp when we pull data\n",
    "from datetime import datetime"
   ]
  },
  {
   "cell_type": "markdown",
   "id": "238c5989",
   "metadata": {},
   "source": [
    "## Extract"
   ]
  },
  {
   "cell_type": "code",
   "execution_count": 64,
   "id": "1278b1fb",
   "metadata": {},
   "outputs": [
    {
     "name": "stdout",
     "output_type": "stream",
     "text": [
      "\n",
      "[1] Extracting data from CoinGecko API...\n",
      "Raw API response:\n",
      "{'bitcoin': {'usd': 112131, 'eur': 96159, 'gbp': 83402}, 'ethereum': {'usd': 4471.82, 'eur': 3834.88, 'gbp': 3326.12}}\n"
     ]
    }
   ],
   "source": [
    "print(\"\\n[1] Extracting data from CoinGecko API...\")\n",
    "\n",
    "url = \"https://api.coingecko.com/api/v3/simple/price\"\n",
    "params = {\n",
    "    # We want bitcoin and ethereum\n",
    "    \"ids\": \"bitcoin,ethereum\",\n",
    "    \n",
    "    # Fiat currencies we want to compare against (USD, EUR, GBP)\n",
    "    \"vs_currencies\": \"usd,eur,gbp\"\n",
    "}\n",
    "\n",
    "# Send a GET request to the CoinGecko API with our URL and parameters\n",
    "response = requests.get(url, params=params)\n",
    "\n",
    "# Convert the API response (which comes back in JSON format) into a Python dictionary\n",
    "data = response.json()\n",
    "\n",
    "# Our raw extracted data! \n",
    "print(\"Raw API response:\")\n",
    "print(data)"
   ]
  },
  {
   "cell_type": "markdown",
   "id": "7bf438c8",
   "metadata": {},
   "source": [
    "## Transform"
   ]
  },
  {
   "cell_type": "code",
   "execution_count": null,
   "id": "6bc24271",
   "metadata": {},
   "outputs": [
    {
     "name": "stdout",
     "output_type": "stream",
     "text": [
      "\n",
      "[2] Transforming data...\n",
      "Data after transformation (USD only):\n",
      "                   timestamp  BTC_USD  ETH_USD  BTC_to_ETH_ratio  \\\n",
      "0 2025-09-03 17:24:55.667960   112131  4471.82         25.075025   \n",
      "\n",
      "   BTC_minus_ETH  Average_BTC_ETH  BTC_over_50k  \n",
      "0      107659.18         58301.41          True  \n"
     ]
    }
   ],
   "source": [
    "print(\"\\n[2] Transforming data...\")\n",
    "\n",
    "# Remove other fiat that we don't need\n",
    "df = pd.DataFrame([{\n",
    "    \"timestamp\": datetime.now(),\n",
    "    \"BTC_USD\": data[\"bitcoin\"][\"usd\"],\n",
    "    \"ETH_USD\": data[\"ethereum\"][\"usd\"]\n",
    "}])\n",
    "\n",
    "# 1. Add BTC-to-ETH price ratio (how many ETH one BTC is worth)\n",
    "df[\"BTC_to_ETH_ratio\"] = df[\"BTC_USD\"] / df[\"ETH_USD\"]\n",
    "\n",
    "# 2. Add difference between BTC and ETH in USD\n",
    "df[\"BTC_minus_ETH\"] = df[\"BTC_USD\"] - df[\"ETH_USD\"]\n",
    "\n",
    "# 3. Add average price of BTC and ETH (just for demo)\n",
    "df[\"Average_BTC_ETH\"] = (df[\"BTC_USD\"] + df[\"ETH_USD\"]) / 2\n",
    "\n",
    "# 4. Add a flag column to mark if BTC is over $50,000\n",
    "df[\"BTC_over_50k\"] = df[\"BTC_USD\"] > 50000\n",
    "\n",
    "# -------------------------------------------------------\n",
    "\n",
    "print(\"Data after transformation (USD only):\")\n",
    "print(df)"
   ]
  },
  {
   "cell_type": "markdown",
   "id": "dcc279ed",
   "metadata": {},
   "source": [
    "## Load"
   ]
  },
  {
   "cell_type": "code",
   "execution_count": null,
   "id": "51c2a296",
   "metadata": {},
   "outputs": [
    {
     "name": "stdout",
     "output_type": "stream",
     "text": [
      "\n",
      "[3] Loading data into SQLite database...\n",
      "Data successfully loaded into 'crypto_prices' table.\n"
     ]
    }
   ],
   "source": [
    "print(\"\\n[3] Loading data into SQLite database...\")\n",
    "\n",
    "# Create a connection (engine) to a local SQLite database file.\n",
    "engine = create_engine(\"sqlite:///crypto_prices.db\")\n",
    "\n",
    "# Save the DataFrame into a table called 'crypto_prices'\n",
    "df.to_sql(\"crypto_prices\", engine, if_exists=\"append\", index=False)\n",
    "\n",
    "print(\"Data successfully loaded into 'crypto_prices' table.\")\n"
   ]
  },
  {
   "cell_type": "code",
   "execution_count": null,
   "id": "a40641ac",
   "metadata": {},
   "outputs": [
    {
     "name": "stdout",
     "output_type": "stream",
     "text": [
      "\n",
      "[4] Verifying database contents...\n",
      "                    timestamp  BTC_USD  ETH_USD  BTC_to_ETH_ratio  \\\n",
      "0  2025-09-03 17:24:55.667960   112131  4471.82         25.075025   \n",
      "\n",
      "   BTC_minus_ETH  Average_BTC_ETH  BTC_over_50k  \n",
      "0      107659.18         58301.41             1  \n",
      "\n",
      "ETL pipeline finished successfully!\n"
     ]
    }
   ],
   "source": [
    "print(\"\\n[4] Verifying database contents...\")\n",
    "\n",
    "# Take a look at contents in DB!\n",
    "check = pd.read_sql(\n",
    "    \"SELECT * FROM crypto_prices ORDER BY timestamp DESC\", \n",
    "    engine\n",
    ")\n",
    "print(check)\n",
    "\n",
    "print(\"\\nETL pipeline finished successfully!\")\n"
   ]
  }
 ],
 "metadata": {
  "kernelspec": {
   "display_name": "venv (3.12.6)",
   "language": "python",
   "name": "python3"
  },
  "language_info": {
   "codemirror_mode": {
    "name": "ipython",
    "version": 3
   },
   "file_extension": ".py",
   "mimetype": "text/x-python",
   "name": "python",
   "nbconvert_exporter": "python",
   "pygments_lexer": "ipython3",
   "version": "3.12.6"
  }
 },
 "nbformat": 4,
 "nbformat_minor": 5
}
